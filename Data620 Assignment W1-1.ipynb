{
 "cells": [
  {
   "cell_type": "markdown",
   "metadata": {},
   "source": [
    "# Assignment:  “hello, graph world” \n",
    "# By Ritesh Lohiya\n",
    "\n",
    "Creating a basic graph using the NetworkX pacakge for Python.\n"
   ]
  },
  {
   "cell_type": "code",
   "execution_count": 21,
   "metadata": {},
   "outputs": [],
   "source": [
    "#load the required pacakges to create the graph."
   ]
  },
  {
   "cell_type": "code",
   "execution_count": 22,
   "metadata": {},
   "outputs": [],
   "source": [
    "%matplotlib inline\n",
    "import networkx as nx\n",
    "import nltk as nl\n",
    "import matplotlib.pyplot as plt"
   ]
  },
  {
   "cell_type": "code",
   "execution_count": 23,
   "metadata": {},
   "outputs": [],
   "source": [
    "#Create an empty graph"
   ]
  },
  {
   "cell_type": "code",
   "execution_count": 24,
   "metadata": {},
   "outputs": [],
   "source": [
    "Grp = nx.Graph()"
   ]
  },
  {
   "cell_type": "code",
   "execution_count": 25,
   "metadata": {},
   "outputs": [],
   "source": [
    "# Create the node set for our graph"
   ]
  },
  {
   "cell_type": "code",
   "execution_count": 26,
   "metadata": {},
   "outputs": [],
   "source": [
    "nodes = ['Andre', 'Beverly', 'Carol', 'Diane', \n",
    "        'Ed', 'Fernando', 'Heather', 'Ike', 'Jane']\n",
    "Grp.add_nodes_from(nodes)"
   ]
  },
  {
   "cell_type": "code",
   "execution_count": 27,
   "metadata": {},
   "outputs": [],
   "source": [
    "#Create edge set for our graph"
   ]
  },
  {
   "cell_type": "code",
   "execution_count": 28,
   "metadata": {},
   "outputs": [],
   "source": [
    "edges = [('Andre', 'Beverly'),\n",
    "         ('Andre', 'Carol'),\n",
    "         ('Andre', 'Diane'),\n",
    "         ('Andre', 'Fernando'),\n",
    "         ('Beverly', 'Diane'),\n",
    "         ('Beverly', 'Garth'),\n",
    "         ('Beverly', 'Ed'),\n",
    "         ('Carol', 'Fernando'),\n",
    "         ('Carol', 'Diane'),\n",
    "         ('Ed', 'Diane'),\n",
    "         ('Ed', 'Garth'),\n",
    "         ('Diane', 'Fernando'),\n",
    "         ('Diane', 'Garth'),\n",
    "         ('Fernando','Garth'),\n",
    "         ('Heather', 'Fernando'),\n",
    "         ('Heather', 'Garth'),\n",
    "         ('Heather', 'Ike'),\n",
    "         ('Ike','Jane' )\n",
    "        ]\n",
    "Grp.add_edges_from(edges)"
   ]
  },
  {
   "cell_type": "code",
   "execution_count": 29,
   "metadata": {},
   "outputs": [],
   "source": [
    "#Check the degree for each"
   ]
  },
  {
   "cell_type": "code",
   "execution_count": 30,
   "metadata": {},
   "outputs": [
    {
     "data": {
      "text/plain": [
       "DegreeView({'Andre': 4, 'Beverly': 4, 'Carol': 3, 'Diane': 6, 'Ed': 3, 'Fernando': 5, 'Heather': 3, 'Ike': 2, 'Jane': 1, 'Garth': 5})"
      ]
     },
     "execution_count": 30,
     "metadata": {},
     "output_type": "execute_result"
    }
   ],
   "source": [
    "nx.degree(Grp)"
   ]
  },
  {
   "cell_type": "code",
   "execution_count": 31,
   "metadata": {},
   "outputs": [],
   "source": [
    "#Plot the graph"
   ]
  },
  {
   "cell_type": "code",
   "execution_count": 32,
   "metadata": {},
   "outputs": [
    {
     "data": {
      "image/png": "[encoded data removed]",
      "text/plain": [
       "<Figure size 432x288 with 1 Axes>"
      ]
     },
     "metadata": {},
     "output_type": "display_data"
    }
   ],
   "source": [
    "nx.draw(Grp)\n",
    "plt.show()"
   ]
  },
  {
   "cell_type": "code",
   "execution_count": null,
   "metadata": {},
   "outputs": [],
   "source": []
  }
 ],
 "metadata": {
  "kernelspec": {
   "display_name": "Python 3",
   "language": "python",
   "name": "python3"
  },
  "language_info": {
   "codemirror_mode": {
    "name": "ipython",
    "version": 3
   },
   "file_extension": ".py",
   "mimetype": "text/x-python",
   "name": "python",
   "nbconvert_exporter": "python",
   "pygments_lexer": "ipython3",
   "version": "3.6.5"
  }
 },
 "nbformat": 4,
 "nbformat_minor": 2
}
